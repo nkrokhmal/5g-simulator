{
 "cells": [
  {
   "cell_type": "code",
   "execution_count": 3,
   "metadata": {},
   "outputs": [
    {
     "data": {
      "text/html": [
       "<style>.container { width:100% !important; }</style>"
      ],
      "text/plain": [
       "<IPython.core.display.HTML object>"
      ]
     },
     "metadata": {},
     "output_type": "display_data"
    }
   ],
   "source": [
    "from IPython.core.display import display, HTML\n",
    "display(HTML(\"<style>.container { width:100% !important; }</style>\"))\n",
    "\n",
    "from algo import *\n",
    "from config import RandomConfig, PFFConfig, SRPTConfig\n",
    "from loguru import logger\n",
    "from tqdm import tqdm_notebook"
   ]
  },
  {
   "cell_type": "markdown",
   "metadata": {},
   "source": [
    "## PFF algo\n"
   ]
  },
  {
   "cell_type": "code",
   "execution_count": null,
   "metadata": {},
   "outputs": [
    {
     "name": "stderr",
     "output_type": "stream",
     "text": [
      "/usr/local/lib/python3.6/dist-packages/ipykernel_launcher.py:5: TqdmDeprecationWarning: This function will be removed in tqdm==5.0.0\n",
      "Please use `tqdm.notebook.tqdm` instead of `tqdm.tqdm_notebook`\n",
      "  \"\"\"\n"
     ]
    },
    {
     "data": {
      "application/vnd.jupyter.widget-view+json": {
       "model_id": "5ff1ca14c2b641a7967365d7a4d4a933",
       "version_major": 2,
       "version_minor": 0
      },
      "text/plain": [
       "HBox(children=(HTML(value=''), FloatProgress(value=0.0, max=20.0), HTML(value='')))"
      ]
     },
     "metadata": {},
     "output_type": "display_data"
    },
    {
     "name": "stderr",
     "output_type": "stream",
     "text": [
      "2021-10-05 17:52:26.815 | INFO     | simulator.simulator:__init__:8 - Parameters are being configured\n",
      "2021-10-05 17:52:41.797 | INFO     | simulator.simulator:__init__:14 - Simulator is ready\n",
      "2021-10-05 17:52:41.798 | INFO     | simulator.simulator:simulate:68 - Starting simulation\n",
      "2021-10-05 17:52:48.935 | INFO     | simulator.simulator:simulate:77 - Epoch 0 / 200\n",
      "2021-10-05 17:52:52.708 | INFO     | simulator.simulator:simulate:77 - Epoch 10 / 200\n",
      "2021-10-05 17:52:57.121 | INFO     | simulator.simulator:simulate:77 - Epoch 20 / 200\n",
      "2021-10-05 17:52:59.964 | INFO     | simulator.simulator:simulate:77 - Epoch 30 / 200\n",
      "2021-10-05 17:53:03.519 | INFO     | simulator.simulator:simulate:77 - Epoch 40 / 200\n",
      "2021-10-05 17:53:08.971 | INFO     | simulator.simulator:simulate:77 - Epoch 50 / 200\n",
      "2021-10-05 17:53:14.829 | INFO     | simulator.simulator:simulate:77 - Epoch 60 / 200\n",
      "2021-10-05 17:53:19.619 | INFO     | simulator.simulator:simulate:77 - Epoch 70 / 200\n",
      "2021-10-05 17:53:22.694 | INFO     | simulator.simulator:simulate:77 - Epoch 80 / 200\n",
      "2021-10-05 17:53:26.575 | INFO     | simulator.simulator:simulate:77 - Epoch 90 / 200\n",
      "2021-10-05 17:53:28.668 | INFO     | simulator.simulator:simulate:77 - Epoch 100 / 200\n",
      "2021-10-05 17:53:32.866 | INFO     | simulator.simulator:simulate:77 - Epoch 110 / 200\n",
      "2021-10-05 17:53:36.034 | INFO     | simulator.simulator:simulate:77 - Epoch 120 / 200\n",
      "2021-10-05 17:53:40.102 | INFO     | simulator.simulator:simulate:77 - Epoch 130 / 200\n",
      "2021-10-05 17:53:42.587 | INFO     | simulator.simulator:simulate:77 - Epoch 140 / 200\n",
      "2021-10-05 17:53:45.543 | INFO     | simulator.simulator:simulate:77 - Epoch 150 / 200\n",
      "2021-10-05 17:53:48.977 | INFO     | simulator.simulator:simulate:77 - Epoch 160 / 200\n",
      "2021-10-05 17:53:52.058 | INFO     | simulator.simulator:simulate:77 - Epoch 170 / 200\n",
      "2021-10-05 17:53:55.946 | INFO     | simulator.simulator:simulate:77 - Epoch 180 / 200\n",
      "2021-10-05 17:54:04.380 | INFO     | simulator.simulator:simulate:77 - Epoch 190 / 200\n",
      "2021-10-05 17:54:07.199 | INFO     | simulator.simulator:simulate:79 - Finished simulation\n",
      "2021-10-05 17:54:07.200 | INFO     | simulator.simulator:simulate:80 - -------------------\n",
      "2021-10-05 17:54:07.203 | INFO     | simulator.simulator:__init__:8 - Parameters are being configured\n",
      "2021-10-05 17:54:29.538 | INFO     | simulator.simulator:__init__:14 - Simulator is ready\n",
      "2021-10-05 17:54:29.545 | INFO     | simulator.simulator:simulate:68 - Starting simulation\n",
      "2021-10-05 17:54:44.383 | INFO     | simulator.simulator:simulate:77 - Epoch 0 / 200\n",
      "2021-10-05 17:54:47.611 | INFO     | simulator.simulator:simulate:77 - Epoch 10 / 200\n",
      "2021-10-05 17:54:50.302 | INFO     | simulator.simulator:simulate:77 - Epoch 20 / 200\n",
      "2021-10-05 17:54:55.621 | INFO     | simulator.simulator:simulate:77 - Epoch 30 / 200\n",
      "2021-10-05 17:54:58.499 | INFO     | simulator.simulator:simulate:77 - Epoch 40 / 200\n",
      "2021-10-05 17:55:02.715 | INFO     | simulator.simulator:simulate:77 - Epoch 50 / 200\n",
      "2021-10-05 17:55:06.835 | INFO     | simulator.simulator:simulate:77 - Epoch 60 / 200\n",
      "2021-10-05 17:55:11.318 | INFO     | simulator.simulator:simulate:77 - Epoch 70 / 200\n",
      "2021-10-05 17:55:15.988 | INFO     | simulator.simulator:simulate:77 - Epoch 80 / 200\n",
      "2021-10-05 17:55:21.877 | INFO     | simulator.simulator:simulate:77 - Epoch 90 / 200\n",
      "2021-10-05 17:55:25.216 | INFO     | simulator.simulator:simulate:77 - Epoch 100 / 200\n",
      "2021-10-05 17:55:29.897 | INFO     | simulator.simulator:simulate:77 - Epoch 110 / 200\n",
      "2021-10-05 17:55:34.703 | INFO     | simulator.simulator:simulate:77 - Epoch 120 / 200\n",
      "2021-10-05 17:55:38.508 | INFO     | simulator.simulator:simulate:77 - Epoch 130 / 200\n",
      "2021-10-05 17:55:42.766 | INFO     | simulator.simulator:simulate:77 - Epoch 140 / 200\n",
      "2021-10-05 17:55:50.323 | INFO     | simulator.simulator:simulate:77 - Epoch 150 / 200\n",
      "2021-10-05 17:55:54.485 | INFO     | simulator.simulator:simulate:77 - Epoch 160 / 200\n",
      "2021-10-05 17:56:02.840 | INFO     | simulator.simulator:simulate:77 - Epoch 170 / 200\n",
      "2021-10-05 17:56:05.997 | INFO     | simulator.simulator:simulate:77 - Epoch 180 / 200\n",
      "2021-10-05 17:56:11.558 | INFO     | simulator.simulator:simulate:77 - Epoch 190 / 200\n",
      "2021-10-05 17:56:15.111 | INFO     | simulator.simulator:simulate:79 - Finished simulation\n",
      "2021-10-05 17:56:15.112 | INFO     | simulator.simulator:simulate:80 - -------------------\n",
      "2021-10-05 17:56:15.115 | INFO     | simulator.simulator:__init__:8 - Parameters are being configured\n",
      "2021-10-05 17:56:27.851 | INFO     | simulator.simulator:__init__:14 - Simulator is ready\n",
      "2021-10-05 17:56:27.852 | INFO     | simulator.simulator:simulate:68 - Starting simulation\n",
      "2021-10-05 17:56:35.475 | INFO     | simulator.simulator:simulate:77 - Epoch 0 / 200\n",
      "2021-10-05 17:56:38.871 | INFO     | simulator.simulator:simulate:77 - Epoch 10 / 200\n",
      "2021-10-05 17:56:41.744 | INFO     | simulator.simulator:simulate:77 - Epoch 20 / 200\n",
      "2021-10-05 17:56:45.511 | INFO     | simulator.simulator:simulate:77 - Epoch 30 / 200\n",
      "2021-10-05 17:56:48.467 | INFO     | simulator.simulator:simulate:77 - Epoch 40 / 200\n",
      "2021-10-05 17:56:52.456 | INFO     | simulator.simulator:simulate:77 - Epoch 50 / 200\n",
      "2021-10-05 17:56:56.201 | INFO     | simulator.simulator:simulate:77 - Epoch 60 / 200\n",
      "2021-10-05 17:57:00.977 | INFO     | simulator.simulator:simulate:77 - Epoch 70 / 200\n",
      "2021-10-05 17:57:06.453 | INFO     | simulator.simulator:simulate:77 - Epoch 80 / 200\n",
      "2021-10-05 17:57:09.924 | INFO     | simulator.simulator:simulate:77 - Epoch 90 / 200\n",
      "2021-10-05 17:57:14.788 | INFO     | simulator.simulator:simulate:77 - Epoch 100 / 200\n",
      "2021-10-05 17:57:18.302 | INFO     | simulator.simulator:simulate:77 - Epoch 110 / 200\n",
      "2021-10-05 17:57:23.811 | INFO     | simulator.simulator:simulate:77 - Epoch 120 / 200\n",
      "2021-10-05 17:57:27.152 | INFO     | simulator.simulator:simulate:77 - Epoch 130 / 200\n",
      "2021-10-05 17:57:32.358 | INFO     | simulator.simulator:simulate:77 - Epoch 140 / 200\n",
      "2021-10-05 17:57:36.431 | INFO     | simulator.simulator:simulate:77 - Epoch 150 / 200\n",
      "2021-10-05 17:57:39.877 | INFO     | simulator.simulator:simulate:77 - Epoch 160 / 200\n",
      "2021-10-05 17:57:45.434 | INFO     | simulator.simulator:simulate:77 - Epoch 170 / 200\n",
      "2021-10-05 17:57:51.062 | INFO     | simulator.simulator:simulate:77 - Epoch 180 / 200\n",
      "2021-10-05 17:57:55.325 | INFO     | simulator.simulator:simulate:77 - Epoch 190 / 200\n",
      "2021-10-05 17:57:59.691 | INFO     | simulator.simulator:simulate:79 - Finished simulation\n",
      "2021-10-05 17:57:59.692 | INFO     | simulator.simulator:simulate:80 - -------------------\n",
      "2021-10-05 17:57:59.697 | INFO     | simulator.simulator:__init__:8 - Parameters are being configured\n",
      "2021-10-05 17:58:11.813 | INFO     | simulator.simulator:__init__:14 - Simulator is ready\n",
      "2021-10-05 17:58:11.814 | INFO     | simulator.simulator:simulate:68 - Starting simulation\n",
      "2021-10-05 17:58:17.234 | INFO     | simulator.simulator:simulate:77 - Epoch 0 / 200\n",
      "2021-10-05 17:58:22.821 | INFO     | simulator.simulator:simulate:77 - Epoch 10 / 200\n",
      "2021-10-05 17:58:26.330 | INFO     | simulator.simulator:simulate:77 - Epoch 20 / 200\n",
      "2021-10-05 17:58:29.103 | INFO     | simulator.simulator:simulate:77 - Epoch 30 / 200\n",
      "2021-10-05 17:58:33.616 | INFO     | simulator.simulator:simulate:77 - Epoch 40 / 200\n",
      "2021-10-05 17:58:37.284 | INFO     | simulator.simulator:simulate:77 - Epoch 50 / 200\n",
      "2021-10-05 17:58:40.921 | INFO     | simulator.simulator:simulate:77 - Epoch 60 / 200\n",
      "2021-10-05 17:58:46.255 | INFO     | simulator.simulator:simulate:77 - Epoch 70 / 200\n",
      "2021-10-05 17:58:50.413 | INFO     | simulator.simulator:simulate:77 - Epoch 80 / 200\n",
      "2021-10-05 17:58:54.708 | INFO     | simulator.simulator:simulate:77 - Epoch 90 / 200\n",
      "2021-10-05 17:58:58.105 | INFO     | simulator.simulator:simulate:77 - Epoch 100 / 200\n",
      "2021-10-05 17:59:04.220 | INFO     | simulator.simulator:simulate:77 - Epoch 110 / 200\n",
      "2021-10-05 17:59:07.912 | INFO     | simulator.simulator:simulate:77 - Epoch 120 / 200\n",
      "2021-10-05 17:59:12.879 | INFO     | simulator.simulator:simulate:77 - Epoch 130 / 200\n",
      "2021-10-05 17:59:19.234 | INFO     | simulator.simulator:simulate:77 - Epoch 140 / 200\n",
      "2021-10-05 17:59:22.799 | INFO     | simulator.simulator:simulate:77 - Epoch 150 / 200\n"
     ]
    },
    {
     "name": "stderr",
     "output_type": "stream",
     "text": [
      "2021-10-05 17:59:29.651 | INFO     | simulator.simulator:simulate:77 - Epoch 160 / 200\n",
      "2021-10-05 17:59:35.400 | INFO     | simulator.simulator:simulate:77 - Epoch 170 / 200\n",
      "2021-10-05 17:59:39.964 | INFO     | simulator.simulator:simulate:77 - Epoch 180 / 200\n",
      "2021-10-05 17:59:43.905 | INFO     | simulator.simulator:simulate:77 - Epoch 190 / 200\n",
      "2021-10-05 17:59:48.836 | INFO     | simulator.simulator:simulate:79 - Finished simulation\n",
      "2021-10-05 17:59:48.837 | INFO     | simulator.simulator:simulate:80 - -------------------\n",
      "2021-10-05 17:59:48.840 | INFO     | simulator.simulator:__init__:8 - Parameters are being configured\n",
      "2021-10-05 18:00:02.067 | INFO     | simulator.simulator:__init__:14 - Simulator is ready\n",
      "2021-10-05 18:00:02.069 | INFO     | simulator.simulator:simulate:68 - Starting simulation\n",
      "2021-10-05 18:00:09.016 | INFO     | simulator.simulator:simulate:77 - Epoch 0 / 200\n",
      "2021-10-05 18:00:12.448 | INFO     | simulator.simulator:simulate:77 - Epoch 10 / 200\n",
      "2021-10-05 18:00:14.689 | INFO     | simulator.simulator:simulate:77 - Epoch 20 / 200\n",
      "2021-10-05 18:00:17.333 | INFO     | simulator.simulator:simulate:77 - Epoch 30 / 200\n",
      "2021-10-05 18:00:22.461 | INFO     | simulator.simulator:simulate:77 - Epoch 40 / 200\n",
      "2021-10-05 18:00:26.476 | INFO     | simulator.simulator:simulate:77 - Epoch 50 / 200\n",
      "2021-10-05 18:00:29.369 | INFO     | simulator.simulator:simulate:77 - Epoch 60 / 200\n",
      "2021-10-05 18:00:32.943 | INFO     | simulator.simulator:simulate:77 - Epoch 70 / 200\n",
      "2021-10-05 18:00:36.326 | INFO     | simulator.simulator:simulate:77 - Epoch 80 / 200\n",
      "2021-10-05 18:00:40.355 | INFO     | simulator.simulator:simulate:77 - Epoch 90 / 200\n",
      "2021-10-05 18:00:43.728 | INFO     | simulator.simulator:simulate:77 - Epoch 100 / 200\n",
      "2021-10-05 18:00:47.463 | INFO     | simulator.simulator:simulate:77 - Epoch 110 / 200\n",
      "2021-10-05 18:00:49.687 | INFO     | simulator.simulator:simulate:77 - Epoch 120 / 200\n",
      "2021-10-05 18:00:54.171 | INFO     | simulator.simulator:simulate:77 - Epoch 130 / 200\n",
      "2021-10-05 18:00:58.117 | INFO     | simulator.simulator:simulate:77 - Epoch 140 / 200\n",
      "2021-10-05 18:01:01.713 | INFO     | simulator.simulator:simulate:77 - Epoch 150 / 200\n",
      "2021-10-05 18:01:05.384 | INFO     | simulator.simulator:simulate:77 - Epoch 160 / 200\n",
      "2021-10-05 18:01:09.029 | INFO     | simulator.simulator:simulate:77 - Epoch 170 / 200\n",
      "2021-10-05 18:01:12.547 | INFO     | simulator.simulator:simulate:77 - Epoch 180 / 200\n",
      "2021-10-05 18:01:15.752 | INFO     | simulator.simulator:simulate:77 - Epoch 190 / 200\n",
      "2021-10-05 18:01:18.981 | INFO     | simulator.simulator:simulate:79 - Finished simulation\n",
      "2021-10-05 18:01:18.982 | INFO     | simulator.simulator:simulate:80 - -------------------\n",
      "2021-10-05 18:01:18.986 | INFO     | simulator.simulator:__init__:8 - Parameters are being configured\n",
      "2021-10-05 18:01:28.600 | INFO     | simulator.simulator:__init__:14 - Simulator is ready\n",
      "2021-10-05 18:01:28.602 | INFO     | simulator.simulator:simulate:68 - Starting simulation\n",
      "2021-10-05 18:01:33.366 | INFO     | simulator.simulator:simulate:77 - Epoch 0 / 200\n",
      "2021-10-05 18:01:38.001 | INFO     | simulator.simulator:simulate:77 - Epoch 10 / 200\n",
      "2021-10-05 18:01:40.657 | INFO     | simulator.simulator:simulate:77 - Epoch 20 / 200\n",
      "2021-10-05 18:01:44.678 | INFO     | simulator.simulator:simulate:77 - Epoch 30 / 200\n"
     ]
    }
   ],
   "source": [
    "config = PFFConfig()\n",
    "transmitted_data = []\n",
    "total_time = []\n",
    "\n",
    "for i in tqdm_notebook(range(20)):\n",
    "    pff_simulator = PFFSimulator(config)\n",
    "    pff_simulator.simulate(epochs=200)\n",
    "    \n",
    "    results = pff_simulator.clients.stats\n",
    "\n",
    "    transmitted_data.append(sum([x[\"transmitted_data\"] for x in results]))\n",
    "    total_time.append(sum([x[\"time\"] for x in results]))\n",
    "\n",
    "    "
   ]
  },
  {
   "cell_type": "code",
   "execution_count": null,
   "metadata": {},
   "outputs": [],
   "source": [
    "total_score = [x[0] / x[1] for x in list(zip(transmitted_data, total_time))]\n",
    "random_score = sum(total_score) / len(total_score)\n",
    "random_score"
   ]
  },
  {
   "cell_type": "markdown",
   "metadata": {},
   "source": [
    "## SRPT "
   ]
  },
  {
   "cell_type": "code",
   "execution_count": null,
   "metadata": {},
   "outputs": [],
   "source": [
    "from algo import *\n",
    "from config import RandomConfig, PFFConfig, SRPTConfig\n",
    "from loguru import logger\n",
    "from tqdm import tqdm_notebook\n",
    "\n",
    "\n",
    "config = SRPTConfig()\n",
    "transmitted_data = []\n",
    "total_time = []\n",
    "\n",
    "for i in tqdm_notebook(range(20)):\n",
    "    srpt_simulator = SRPTSimulator(config)\n",
    "    srpt_simulator.simulate(epochs=200)\n",
    "    \n",
    "    results = srpt_simulator.clients.stats\n",
    "\n",
    "    transmitted_data.append(sum([x[\"transmitted_data\"] for x in results]))\n",
    "    total_time.append(sum([x[\"time\"] for x in results]))\n",
    "\n",
    "    "
   ]
  },
  {
   "cell_type": "code",
   "execution_count": null,
   "metadata": {},
   "outputs": [],
   "source": [
    "total_score = [x[0] / x[1] for x in list(zip(transmitted_data, total_time))]\n",
    "random_score = sum(total_score) / len(total_score)\n",
    "random_score"
   ]
  },
  {
   "cell_type": "code",
   "execution_count": null,
   "metadata": {},
   "outputs": [],
   "source": []
  }
 ],
 "metadata": {
  "kernelspec": {
   "display_name": "Python 3",
   "language": "python",
   "name": "python3"
  },
  "language_info": {
   "codemirror_mode": {
    "name": "ipython",
    "version": 3
   },
   "file_extension": ".py",
   "mimetype": "text/x-python",
   "name": "python",
   "nbconvert_exporter": "python",
   "pygments_lexer": "ipython3",
   "version": "3.6.9"
  }
 },
 "nbformat": 4,
 "nbformat_minor": 4
}
